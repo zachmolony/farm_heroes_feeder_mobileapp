{
 "cells": [
  {
   "cell_type": "code",
   "execution_count": 89,
   "metadata": {
    "collapsed": true
   },
   "outputs": [],
   "source": [
    "from random import randint\n",
    "\n",
    "board = [['_', '_', '_', '_', '_', '_', '_', '_', '_', '_'],\n",
    " ['_', '_', '_', '_', '_', '_', '_', '_', '_', '_'],\n",
    " ['_', '_', '_', '_', '_', '_', '_', '_', '_', '_'],\n",
    " ['_', '_', '_', '_', '_', '_', '_', '_', '_', '_'],\n",
    " ['_', '_', '_', '_', '_', '_', '_', '_', '_', '_'],\n",
    " ['_', '_', '_', '_', '_', '_', '_', '_', '_', '_'],\n",
    " ['_', '_', '_', '_', '_', '_', '_', '_', '_', '_'],\n",
    " ['_', '_', '_', '_', '_', '_', '_', '_', '_', '_'],\n",
    " ['_', '_', '_', '_', '_', '_', '_', '_', '_', '_'],\n",
    " ['_', '_', '_', '_', '_', '_', '_', '_', '_', '_']]"
   ]
  },
  {
   "cell_type": "code",
   "execution_count": 90,
   "metadata": {
    "collapsed": true
   },
   "outputs": [],
   "source": [
    "animal = [randint(0,9), randint(0,9)]\n",
    "throw1 = [randint(0,9), randint(0,9)]\n",
    "throw2 = [randint(0,9), randint(0,9)]\n",
    "throw3 = [randint(0,9), randint(0,9)]\n",
    "throw4 = [randint(0,9), randint(0,9)]"
   ]
  },
  {
   "cell_type": "code",
   "execution_count": 91,
   "metadata": {},
   "outputs": [
    {
     "data": {
      "text/plain": [
       "[['_', '_', '_', '_', '_', '_', '_', '_', '_', '_'],\n",
       " ['_', '_', '_', '_', '_', '_', '_', '_', '_', '_'],\n",
       " ['_', '_', '_', '_', '_', '_', '_', '_', '_', '_'],\n",
       " ['_', '_', '_', '_', '_', '_', '_', '_', '_', '_'],\n",
       " ['_', '_', '_', '_', '_', '_', '_', '_', '_', '_'],\n",
       " ['_', '_', '_', '_', '_', '_', '_', 'A', '_', '_'],\n",
       " ['_', '_', '_', '_', '_', '_', '_', '_', '_', '_'],\n",
       " ['_', '_', '_', '_', '_', '_', '_', '_', '_', '_'],\n",
       " ['_', '_', '_', '_', '_', '_', '_', '_', '_', '_'],\n",
       " ['_', '_', '_', '_', '_', '_', '_', '_', '_', '_']]"
      ]
     },
     "execution_count": 91,
     "metadata": {},
     "output_type": "execute_result"
    }
   ],
   "source": [
    "board[animal[0]][animal[1]] = \"A\"\n",
    "board"
   ]
  },
  {
   "cell_type": "code",
   "execution_count": 94,
   "metadata": {},
   "outputs": [
    {
     "data": {
      "text/plain": [
       "[['_', '_', '_', '_', '_', '_', '_', '_', '_', '_'],\n",
       " ['_', '_', '_', '_', '_', '_', '_', '_', '_', '_'],\n",
       " ['_', '_', '_', '_', '_', '_', '_', '_', '_', '_'],\n",
       " ['_', '_', '_', '_', '_', '3', '_', '_', '_', '_'],\n",
       " ['_', '_', '_', '_', '_', '_', '_', '_', '_', '_'],\n",
       " ['_', '_', '_', '_', '_', '_', '_', 'A', '_', '_'],\n",
       " ['_', '_', '_', '_', '_', '_', '_', '_', '_', '_'],\n",
       " ['_', '_', '_', '_', '_', '_', '_', '_', '_', '_'],\n",
       " ['_', '4', '_', '_', '_', '_', '_', '_', '2', '_'],\n",
       " ['_', '_', '_', '_', '_', '1', '_', '_', '_', '_']]"
      ]
     },
     "execution_count": 94,
     "metadata": {},
     "output_type": "execute_result"
    }
   ],
   "source": [
    "board[throw1[0]][throw1[1]] = \"1\"\n",
    "board[throw2[0]][throw2[1]] = \"2\"\n",
    "board[throw3[0]][throw3[1]] = \"3\"\n",
    "board[throw4[0]][throw4[1]] = \"4\"\n",
    "board"
   ]
  },
  {
   "cell_type": "code",
   "execution_count": 98,
   "metadata": {},
   "outputs": [
    {
     "name": "stdout",
     "output_type": "stream",
     "text": [
      "Player 1 gets 2 points\n",
      "Player 2 gets 3 points\n",
      "Player 3 gets 2 points\n"
     ]
    }
   ],
   "source": [
    "if throw1[0] == animal[0] or throw1[1] == animal[1]:\n",
    "    print(\"Player 1 gets 5 points\")\n",
    "elif throw1[0] == animal[0]-1 or throw1[1] == animal[1]-1 or throw1[0] == animal[0]+1 or throw1[1] == animal[1]+1:\n",
    "    print(\"Player 1 gets 3 points\")\n",
    "elif throw1[0] == animal[0]-2 or throw1[1] == animal[1]-2 or throw1[0] == animal[0]+2 or throw1[1] == animal[1]+2:\n",
    "    print(\"Player 1 gets 2 points\")\n",
    "elif throw1[0] == animal[0]-3 or throw1[1] == animal[1]-3 or throw1[0] == animal[0]+3 or throw1[1] == animal[1]+3:\n",
    "    print(\"Player 1 gets 1 points\")\n",
    "    \n",
    "if throw2[0] == animal[0] or throw2[1] == animal[1] or throw2[0] == animal[0] or throw2[1] == animal[1]:\n",
    "    print(\"Player 2 gets 5 points\")\n",
    "elif throw2[0] == animal[0]-1 or throw2[1] == animal[1]-1 or throw2[0] == animal[0]+1 or throw2[1] == animal[1]+1:\n",
    "    print(\"Player 2 gets 3 points\")\n",
    "elif throw2[0] == animal[0]-2 or throw2[1] == animal[1]-2 or throw2[0] == animal[0]+2 or throw2[1] == animal[1]+2:\n",
    "    print(\"Player 2 gets 2 points\")\n",
    "elif throw2[0] == animal[0]-3 or throw2[1] == animal[1]-3 or throw2[0] == animal[0]+3 or throw2[1] == animal[1]+3:\n",
    "    print(\"Player 2 gets 1 points\")\n",
    "    \n",
    "if throw3[0] == animal[0] or throw3[1] == animal[1]:\n",
    "    print(\"Player 3 gets 5 points\")\n",
    "elif throw3[0] == animal[0]-1 or throw3[1] == animal[1]-1 or throw3[0] == animal[0]+1 or throw3[1] == animal[1]+1:\n",
    "    print(\"Player 3 gets 3 points\")\n",
    "elif throw3[0] == animal[0]-2 or throw3[1] == animal[1]-2 or throw3[0] == animal[0]+2 or throw3[1] == animal[1]+2:\n",
    "    print(\"Player 3 gets 2 points\")\n",
    "elif throw3[0] == animal[0]-3 or throw3[1] == animal[1]-3 or throw3[0] == animal[0]+3 or throw3[1] == animal[1]+3:\n",
    "    print(\"Player 3 gets 1 points\")\n",
    "\n",
    "if throw4[0] == animal[0] or throw4[1] == animal[1]:\n",
    "    print(\"Player 4 gets 5 points\")\n",
    "elif throw4[0] == animal[0]-1 or throw4[1] == animal[1]-1 or throw4[0] == animal[0]-1 or throw4[1] == animal[1]+1:\n",
    "    print(\"Player 4 gets 3 points\")\n",
    "elif throw4[0] == animal[0]-2 or throw4[1] == animal[1]-2 or throw4[0] == animal[0]-2 or throw4[1] == animal[1]+2:\n",
    "    print(\"Player 4 gets 2 points\")\n",
    "elif throw4[0] == animal[0]-3 or throw4[1] == animal[1]-3 or throw4[0] == animal[0]-3 or throw4[1] == animal[1]+3:\n",
    "    print(\"Player 4 gets 1 points\")"
   ]
  },
  {
   "cell_type": "code",
   "execution_count": 93,
   "metadata": {},
   "outputs": [
    {
     "data": {
      "text/plain": [
       "[['_', '_', '_', '_', '_', '_', '_', '_', '_', '_'],\n",
       " ['_', '_', '_', '_', '_', '_', '_', '_', '_', '_'],\n",
       " ['_', '_', '_', '_', '_', '_', '_', '_', '_', '_'],\n",
       " ['_', '_', '_', '_', '_', '_', '_', '_', '_', '_'],\n",
       " ['_', '_', '_', '_', '_', '_', '_', '_', '_', '_'],\n",
       " ['_', '_', '_', '_', '_', '_', '_', 'A', '_', '_'],\n",
       " ['_', '_', '_', '_', '_', '_', '_', '_', '_', '_'],\n",
       " ['_', '_', '_', '_', '_', '_', '_', '_', '_', '_'],\n",
       " ['_', '_', '_', '_', '_', '_', '_', '_', '_', '_'],\n",
       " ['_', '_', '_', '_', '_', '_', '_', '_', '_', '_']]"
      ]
     },
     "execution_count": 93,
     "metadata": {},
     "output_type": "execute_result"
    }
   ],
   "source": [
    "board"
   ]
  },
  {
   "cell_type": "code",
   "execution_count": 99,
   "metadata": {},
   "outputs": [
    {
     "name": "stdout",
     "output_type": "stream",
     "text": [
      "2\n",
      "2\n",
      "2\n",
      "2\n"
     ]
    }
   ],
   "source": []
  }
 ],
 "metadata": {
  "kernelspec": {
   "display_name": "Python 3",
   "language": "python",
   "name": "python3"
  },
  "language_info": {
   "codemirror_mode": {
    "name": "ipython",
    "version": 3
   },
   "file_extension": ".py",
   "mimetype": "text/x-python",
   "name": "python",
   "nbconvert_exporter": "python",
   "pygments_lexer": "ipython3",
   "version": "3.6.3"
  }
 },
 "nbformat": 4,
 "nbformat_minor": 2
}
